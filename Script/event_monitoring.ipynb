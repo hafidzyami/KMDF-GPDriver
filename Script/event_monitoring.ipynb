{
 "cells": [
  {
   "cell_type": "markdown",
   "metadata": {},
   "source": [
    "# Ransomware Analysis Automation\n",
    "\n",
    "This notebook automates the process of executing ransomware samples in a controlled VM environment with the following workflow:\n",
    "1. Restore VM to snapshot 32\n",
    "2. Start the VM\n",
    "3. Run event-monitoring-script.bat (auto-terminates after 1 minute)\n",
    "4. Deploy and execute ransomware sample\n",
    "5. Wait 50 seconds for execution\n",
    "6. Kill the ransomware process\n",
    "7. Copy resulting .dll files to reyhan-ransomware folder"
   ]
  },
  {
   "cell_type": "code",
   "execution_count": 1,
   "metadata": {},
   "outputs": [],
   "source": [
    "import os\n",
    "import time\n",
    "import subprocess\n",
    "import itertools\n",
    "import re"
   ]
  },
  {
   "cell_type": "code",
   "execution_count": 2,
   "metadata": {},
   "outputs": [
    {
     "data": {
      "text/plain": [
       "0"
      ]
     },
     "execution_count": 2,
     "metadata": {},
     "output_type": "execute_result"
    }
   ],
   "source": [
    "# Create necessary directories\n",
    "os.system('mkdir -p screenshots')\n",
    "os.system('mkdir -p reyhan-ransomware')"
   ]
  },
  {
   "cell_type": "code",
   "execution_count": 3,
   "metadata": {},
   "outputs": [],
   "source": [
    "# VM configuration\n",
    "vm_name = 'windows11-clone'  # Update this to your VM name if different\n",
    "snapshot_no = 32\n",
    "\n",
    "# Command templates\n",
    "vm_open_cmd = f'vboxmanage startvm {vm_name}'\n",
    "run_cmd = f'vboxmanage guestcontrol {vm_name} run --username wineleven --password therealtreasure -- '\n",
    "run_cmd += '\"C:\\\\Windows\\\\System32\\\\cmd.exe\" \"/c\" '\n",
    "copyfrom_cmd = f'vboxmanage guestcontrol {vm_name} --username wineleven --password therealtreasure copyfrom '\n",
    "kill_sample_cmd = run_cmd + f'\"taskkill /f /im _sample.exe\"'\n",
    "\n",
    "# Paths and directories\n",
    "output_folder = 'reyhan-ransomware'\n",
    "deploy_dir = 'C:\\\\Users\\\\wineleven\\\\Desktop\\\\'\n",
    "shared_folder_path = \"C:\\\\Users\\\\wineleven\\\\Desktop\\\\Shared\""
   ]
  },
  {
   "cell_type": "code",
   "execution_count": 4,
   "metadata": {},
   "outputs": [],
   "source": [
    "# Utility functions\n",
    "\n",
    "def tstamp():\n",
    "    \"\"\"Get current timestamp in readable format.\"\"\"\n",
    "    t = time.time()\n",
    "    return time.strftime(\"%Y-%m-%d %H:%M:%S\", time.localtime(t)) + (\"%.3f\" % (t % 1))[1:]\n",
    "\n",
    "def check_output_t(command):\n",
    "    \"\"\"Execute command and return output.\"\"\"\n",
    "    ret = subprocess.check_output(command, shell=True)\n",
    "    return ret\n",
    "\n",
    "def get_all_files(folder):\n",
    "    \"\"\"Get list of all files in a folder and its subfolders.\"\"\"\n",
    "    file_paths = []\n",
    "    for root, _, files in os.walk(folder):\n",
    "        for file in sorted(files):\n",
    "            file_paths.append(os.path.join(root, file))\n",
    "    return file_paths"
   ]
  },
  {
   "cell_type": "code",
   "execution_count": 5,
   "metadata": {},
   "outputs": [],
   "source": [
    "# VM operations\n",
    "\n",
    "def restore(snap_no):\n",
    "    \"\"\"Restore VM to specified snapshot.\"\"\"\n",
    "    print(f\"[{tstamp()}] Restoring snapshot {snap_no}\")\n",
    "    check_output_t(f'vboxmanage snapshot {vm_name} restore \"Snapshot {snap_no}\"')\n",
    "    print(f\"[{tstamp()}] Restoring snapshot {snap_no} done\")\n",
    "\n",
    "def shutdown_and_restore(snap_no):\n",
    "    \"\"\"Power off VM and restore to snapshot.\"\"\"\n",
    "    print(f\"[{tstamp()}] Powering off VM\")\n",
    "    try:\n",
    "        check_output_t(f'vboxmanage controlvm {vm_name} poweroff')\n",
    "        print(f\"[{tstamp()}] Powering off VM done\")\n",
    "    except:\n",
    "        print('VM (probably) already off')\n",
    "    restore(snap_no)\n",
    "\n",
    "def start_vm():\n",
    "    \"\"\"Start the VM.\"\"\"\n",
    "    print(f\"[{tstamp()}] Starting up VM\")\n",
    "    check_output_t(vm_open_cmd)\n",
    "    print(f\"[{tstamp()}] Starting up VM done\")\n",
    "    time.sleep(5)  # Give VM time to fully start\n",
    "\n",
    "def take_screenshot(filename):\n",
    "    \"\"\"Take a screenshot of the VM.\"\"\"\n",
    "    print(f\"[{tstamp()}] Taking screenshot\")\n",
    "    os.system(f'vboxmanage controlvm {vm_name} screenshotpng screenshots/{filename}.png')\n",
    "    print(f\"[{tstamp()}] Taking screenshot done\")"
   ]
  },
  {
   "cell_type": "code",
   "execution_count": 7,
   "metadata": {},
   "outputs": [],
   "source": [
    "# Sample operations\n",
    "\n",
    "def execute_monitoring_script():\n",
    "    \"\"\"Execute event-monitoring-script.bat in admin command prompt.\"\"\"\n",
    "    print(f\"[{tstamp()}] Running event monitoring script\")\n",
    "    monitor_cmd = run_cmd + f'\"event-monitoring-script.bat\"'\n",
    "    os.system(monitor_cmd)\n",
    "    print(f\"[{tstamp()}] Event monitoring script started\")\n",
    "\n",
    "def deploy_sample(filepath):\n",
    "    \"\"\"Copy ransomware sample to VM.\"\"\"\n",
    "    filename = os.path.basename(filepath)\n",
    "    print(f\"[{tstamp()}] Copying ransomware sample {filename}...\")\n",
    "    copy_cmd = run_cmd + f'\"copy \\\"{filepath}\\\" \\\"{deploy_dir}_sample.exe\\\"\"'\n",
    "    os.system(copy_cmd)\n",
    "    print(f\"[{tstamp()}] Copying ransomware sample done\")\n",
    "\n",
    "def execute_sample():\n",
    "    \"\"\"Execute the ransomware sample.\"\"\"\n",
    "    print(f\"[{tstamp()}] Executing sample...\")\n",
    "    execute_cmd = run_cmd + f'\"{deploy_dir}_sample.exe\"'\n",
    "    os.system(execute_cmd)\n",
    "    print(f\"[{tstamp()}] Executed sample\")\n",
    "\n",
    "def wait_sample(wait_time):\n",
    "    \"\"\"Wait for specified time with progress indicator.\"\"\"\n",
    "    print(f\"[{tstamp()}] Waiting for {wait_time} seconds\")\n",
    "    for i in range(wait_time):\n",
    "        print('\\r[' + i*'#' + (wait_time-i)*'_' + ']', end='')\n",
    "        time.sleep(1)\n",
    "    print('\\r[' + wait_time * '#' + ']')\n",
    "\n",
    "def kill_sample():\n",
    "    \"\"\"Kill the ransomware sample.\"\"\"\n",
    "    print(f\"[{tstamp()}] Killing sample...\")\n",
    "    os.system(kill_sample_cmd)\n",
    "    print(f\"[{tstamp()}] Killing sample done\")\n",
    "\n",
    "def copy_dll_to_folder():\n",
    "    \"\"\"Copy the .dll file from shared folder to output folder.\"\"\"\n",
    "    print(f\"[{tstamp()}] Copying .dll files to {output_folder}\")\n",
    "    \n",
    "    # Search for .dll files in the shared folder\n",
    "    dll_search_cmd = run_cmd + f'\"dir \\\"{shared_folder_path}\\\\*.dll\\\" /b\"'\n",
    "    \n",
    "    try:\n",
    "        dll_files = subprocess.check_output(dll_search_cmd, shell=True).decode().strip().split('\\r\\n')\n",
    "        \n",
    "        for dll_file in dll_files:\n",
    "            if dll_file and len(dll_file) > 0:  # Skip empty results\n",
    "                src_path = f\"{shared_folder_path}\\\\{dll_file}\"\n",
    "                dst_path = f\"{output_folder}/{dll_file}\"\n",
    "                \n",
    "                # Copy file from VM to host\n",
    "                copy_cmd = f'{copyfrom_cmd} \"{src_path}\" \"{dst_path}\"'\n",
    "                os.system(copy_cmd)\n",
    "                print(f\"[{tstamp()}] Copied {dll_file} to {output_folder}\")\n",
    "    except subprocess.CalledProcessError as e:\n",
    "        print(f\"Error finding .dll files: {e}\")\n",
    "    \n",
    "    print(f\"[{tstamp()}] Copying .dll files done\")"
   ]
  },
  {
   "cell_type": "code",
   "execution_count": 8,
   "metadata": {},
   "outputs": [],
   "source": [
    "def run_ransomware_analysis(filepath):\n",
    "    \"\"\"Run the ransomware analysis workflow.\"\"\"\n",
    "    print(f\"[{tstamp()}] Starting ransomware analysis for {filepath}\")\n",
    "    \n",
    "    # Initialize timing\n",
    "    t0 = time.time()\n",
    "    \n",
    "    try:\n",
    "        # Restore snapshot and start VM\n",
    "        restore(snapshot_no)\n",
    "        start_vm()\n",
    "        time.sleep(5)  # Allow system to stabilize\n",
    "        \n",
    "        # Execute monitoring script \n",
    "        execute_monitoring_script()\n",
    "        time.sleep(2)  # Give monitoring script time to start\n",
    "        \n",
    "        # Deploy and execute sample (Uncomment to operate)\n",
    "        # deploy_sample(filepath)\n",
    "        # execute_sample()\n",
    "        \n",
    "        # Wait for sample to execute\n",
    "        wait_sample(50)\n",
    "        \n",
    "        # Take screenshot for evidence (Uncomment to operate)\n",
    "        # filename = os.path.basename(filepath)\n",
    "        # take_screenshot(filename)\n",
    "        \n",
    "        # Kill sample (Uncomment to operate)\n",
    "        # kill_sample()\n",
    "        time.sleep(5)  # Allow system to complete operations\n",
    "        \n",
    "        # Copy .dll files to output folder\n",
    "        # copy_dll_to_folder()\n",
    "        \n",
    "        # Shutdown and restore VM\n",
    "        shutdown_and_restore(snapshot_no)\n",
    "        \n",
    "    except Exception as e:\n",
    "        print(f\"Error during analysis: {e}\")\n",
    "        shutdown_and_restore(snapshot_no)\n",
    "    \n",
    "    elapsed = time.time() - t0\n",
    "    print(f'[{tstamp()}] Analysis completed in {elapsed:.1f} seconds.\\n')"
   ]
  },
  {
   "cell_type": "markdown",
   "metadata": {},
   "source": [
    "## Run Analysis for a Single Sample\n",
    "\n",
    "Use this cell to analyze a single ransomware sample. Replace the path with your actual sample path."
   ]
  },
  {
   "cell_type": "code",
   "execution_count": 9,
   "metadata": {},
   "outputs": [
    {
     "name": "stdout",
     "output_type": "stream",
     "text": [
      "[2025-05-20 10:39:48.875] Starting ransomware analysis for path/to/your/ransomware_sample.exe\n",
      "[2025-05-20 10:39:48.876] Restoring snapshot 32\n"
     ]
    },
    {
     "name": "stderr",
     "output_type": "stream",
     "text": [
      "0%...10%...20%...30%...40%...50%...60%...70%...80%...90%...100%\n"
     ]
    },
    {
     "name": "stdout",
     "output_type": "stream",
     "text": [
      "[2025-05-20 10:39:50.446] Restoring snapshot 32 done\n",
      "[2025-05-20 10:39:50.446] Starting up VM\n"
     ]
    },
    {
     "name": "stderr",
     "output_type": "stream",
     "text": [
      "VBoxManage: error: Out of memory condition when allocating memory with low physical backing. (VERR_NO_LOW_MEMORY)\n",
      "VBoxManage: error: Details: code NS_ERROR_FAILURE (0x80004005), component ConsoleWrap, interface IConsole\n",
      "VBoxManage: error: Cannot power down a saved virtual machine\n",
      "VBoxManage: error: Details: code VBOX_E_INVALID_VM_STATE (0x80bb0002), component ConsoleWrap, interface IConsole, callee nsISupports\n",
      "VBoxManage: error: Context: \"PowerDown(progress.asOutParam())\" at line 604 of file VBoxManageControlVM.cpp\n"
     ]
    },
    {
     "name": "stdout",
     "output_type": "stream",
     "text": [
      "Error during analysis: Command 'vboxmanage startvm windows11-clone' returned non-zero exit status 1.\n",
      "[2025-05-20 10:39:53.574] Powering off VM\n",
      "VM (probably) already off\n",
      "[2025-05-20 10:39:53.693] Restoring snapshot 32\n"
     ]
    },
    {
     "name": "stderr",
     "output_type": "stream",
     "text": [
      "0%...10%...20%...30%...40%...50%...E_ACCESSDENIED\n",
      "VBoxManage: error: Snapshot operation failed\n",
      "VBoxManage: error: The object is not ready\n",
      "VBoxManage: error: Details: code E_ACCESSDENIED (0x80070005), component SessionMachine, interface IMachine\n",
      "VBoxManage: error: Context: \"RTEXITCODE handleSnapshot(HandlerArg*)\" at line 564 of file VBoxManageSnapshot.cpp\n"
     ]
    },
    {
     "ename": "CalledProcessError",
     "evalue": "Command 'vboxmanage snapshot windows11-clone restore \"Snapshot 32\"' returned non-zero exit status 1.",
     "output_type": "error",
     "traceback": [
      "\u001b[0;31m---------------------------------------------------------------------------\u001b[0m",
      "\u001b[0;31mCalledProcessError\u001b[0m                        Traceback (most recent call last)",
      "Cell \u001b[0;32mIn[8], line 11\u001b[0m, in \u001b[0;36mrun_ransomware_analysis\u001b[0;34m(filepath)\u001b[0m\n\u001b[1;32m     10\u001b[0m restore(snapshot_no)\n\u001b[0;32m---> 11\u001b[0m \u001b[43mstart_vm\u001b[49m\u001b[43m(\u001b[49m\u001b[43m)\u001b[49m\n\u001b[1;32m     12\u001b[0m time\u001b[38;5;241m.\u001b[39msleep(\u001b[38;5;241m5\u001b[39m)  \u001b[38;5;66;03m# Allow system to stabilize\u001b[39;00m\n",
      "Cell \u001b[0;32mIn[5], line 22\u001b[0m, in \u001b[0;36mstart_vm\u001b[0;34m()\u001b[0m\n\u001b[1;32m     21\u001b[0m \u001b[38;5;28mprint\u001b[39m(\u001b[38;5;124mf\u001b[39m\u001b[38;5;124m\"\u001b[39m\u001b[38;5;124m[\u001b[39m\u001b[38;5;132;01m{\u001b[39;00mtstamp()\u001b[38;5;132;01m}\u001b[39;00m\u001b[38;5;124m] Starting up VM\u001b[39m\u001b[38;5;124m\"\u001b[39m)\n\u001b[0;32m---> 22\u001b[0m \u001b[43mcheck_output_t\u001b[49m\u001b[43m(\u001b[49m\u001b[43mvm_open_cmd\u001b[49m\u001b[43m)\u001b[49m\n\u001b[1;32m     23\u001b[0m \u001b[38;5;28mprint\u001b[39m(\u001b[38;5;124mf\u001b[39m\u001b[38;5;124m\"\u001b[39m\u001b[38;5;124m[\u001b[39m\u001b[38;5;132;01m{\u001b[39;00mtstamp()\u001b[38;5;132;01m}\u001b[39;00m\u001b[38;5;124m] Starting up VM done\u001b[39m\u001b[38;5;124m\"\u001b[39m)\n",
      "Cell \u001b[0;32mIn[4], line 10\u001b[0m, in \u001b[0;36mcheck_output_t\u001b[0;34m(command)\u001b[0m\n\u001b[1;32m      9\u001b[0m \u001b[38;5;250m\u001b[39m\u001b[38;5;124;03m\"\"\"Execute command and return output.\"\"\"\u001b[39;00m\n\u001b[0;32m---> 10\u001b[0m ret \u001b[38;5;241m=\u001b[39m \u001b[43msubprocess\u001b[49m\u001b[38;5;241;43m.\u001b[39;49m\u001b[43mcheck_output\u001b[49m\u001b[43m(\u001b[49m\u001b[43mcommand\u001b[49m\u001b[43m,\u001b[49m\u001b[43m \u001b[49m\u001b[43mshell\u001b[49m\u001b[38;5;241;43m=\u001b[39;49m\u001b[38;5;28;43;01mTrue\u001b[39;49;00m\u001b[43m)\u001b[49m\n\u001b[1;32m     11\u001b[0m \u001b[38;5;28;01mreturn\u001b[39;00m ret\n",
      "File \u001b[0;32m~/miniconda3/lib/python3.12/subprocess.py:466\u001b[0m, in \u001b[0;36mcheck_output\u001b[0;34m(timeout, *popenargs, **kwargs)\u001b[0m\n\u001b[1;32m    464\u001b[0m     kwargs[\u001b[38;5;124m'\u001b[39m\u001b[38;5;124minput\u001b[39m\u001b[38;5;124m'\u001b[39m] \u001b[38;5;241m=\u001b[39m empty\n\u001b[0;32m--> 466\u001b[0m \u001b[38;5;28;01mreturn\u001b[39;00m \u001b[43mrun\u001b[49m\u001b[43m(\u001b[49m\u001b[38;5;241;43m*\u001b[39;49m\u001b[43mpopenargs\u001b[49m\u001b[43m,\u001b[49m\u001b[43m \u001b[49m\u001b[43mstdout\u001b[49m\u001b[38;5;241;43m=\u001b[39;49m\u001b[43mPIPE\u001b[49m\u001b[43m,\u001b[49m\u001b[43m \u001b[49m\u001b[43mtimeout\u001b[49m\u001b[38;5;241;43m=\u001b[39;49m\u001b[43mtimeout\u001b[49m\u001b[43m,\u001b[49m\u001b[43m \u001b[49m\u001b[43mcheck\u001b[49m\u001b[38;5;241;43m=\u001b[39;49m\u001b[38;5;28;43;01mTrue\u001b[39;49;00m\u001b[43m,\u001b[49m\n\u001b[1;32m    467\u001b[0m \u001b[43m           \u001b[49m\u001b[38;5;241;43m*\u001b[39;49m\u001b[38;5;241;43m*\u001b[39;49m\u001b[43mkwargs\u001b[49m\u001b[43m)\u001b[49m\u001b[38;5;241m.\u001b[39mstdout\n",
      "File \u001b[0;32m~/miniconda3/lib/python3.12/subprocess.py:571\u001b[0m, in \u001b[0;36mrun\u001b[0;34m(input, capture_output, timeout, check, *popenargs, **kwargs)\u001b[0m\n\u001b[1;32m    570\u001b[0m     \u001b[38;5;28;01mif\u001b[39;00m check \u001b[38;5;129;01mand\u001b[39;00m retcode:\n\u001b[0;32m--> 571\u001b[0m         \u001b[38;5;28;01mraise\u001b[39;00m CalledProcessError(retcode, process\u001b[38;5;241m.\u001b[39margs,\n\u001b[1;32m    572\u001b[0m                                  output\u001b[38;5;241m=\u001b[39mstdout, stderr\u001b[38;5;241m=\u001b[39mstderr)\n\u001b[1;32m    573\u001b[0m \u001b[38;5;28;01mreturn\u001b[39;00m CompletedProcess(process\u001b[38;5;241m.\u001b[39margs, retcode, stdout, stderr)\n",
      "\u001b[0;31mCalledProcessError\u001b[0m: Command 'vboxmanage startvm windows11-clone' returned non-zero exit status 1.",
      "\nDuring handling of the above exception, another exception occurred:\n",
      "\u001b[0;31mCalledProcessError\u001b[0m                        Traceback (most recent call last)",
      "Cell \u001b[0;32mIn[9], line 5\u001b[0m\n\u001b[1;32m      2\u001b[0m sample_path \u001b[38;5;241m=\u001b[39m \u001b[38;5;124m\"\u001b[39m\u001b[38;5;124mpath/to/your/ransomware_sample.exe\u001b[39m\u001b[38;5;124m\"\u001b[39m\n\u001b[1;32m      4\u001b[0m \u001b[38;5;66;03m# Uncomment the line below to run analysis on a single sample\u001b[39;00m\n\u001b[0;32m----> 5\u001b[0m \u001b[43mrun_ransomware_analysis\u001b[49m\u001b[43m(\u001b[49m\u001b[43msample_path\u001b[49m\u001b[43m)\u001b[49m\n",
      "Cell \u001b[0;32mIn[8], line 41\u001b[0m, in \u001b[0;36mrun_ransomware_analysis\u001b[0;34m(filepath)\u001b[0m\n\u001b[1;32m     39\u001b[0m \u001b[38;5;28;01mexcept\u001b[39;00m \u001b[38;5;167;01mException\u001b[39;00m \u001b[38;5;28;01mas\u001b[39;00m e:\n\u001b[1;32m     40\u001b[0m     \u001b[38;5;28mprint\u001b[39m(\u001b[38;5;124mf\u001b[39m\u001b[38;5;124m\"\u001b[39m\u001b[38;5;124mError during analysis: \u001b[39m\u001b[38;5;132;01m{\u001b[39;00me\u001b[38;5;132;01m}\u001b[39;00m\u001b[38;5;124m\"\u001b[39m)\n\u001b[0;32m---> 41\u001b[0m     \u001b[43mshutdown_and_restore\u001b[49m\u001b[43m(\u001b[49m\u001b[43msnapshot_no\u001b[49m\u001b[43m)\u001b[49m\n\u001b[1;32m     43\u001b[0m elapsed \u001b[38;5;241m=\u001b[39m time\u001b[38;5;241m.\u001b[39mtime() \u001b[38;5;241m-\u001b[39m t0\n\u001b[1;32m     44\u001b[0m \u001b[38;5;28mprint\u001b[39m(\u001b[38;5;124mf\u001b[39m\u001b[38;5;124m'\u001b[39m\u001b[38;5;124m[\u001b[39m\u001b[38;5;132;01m{\u001b[39;00mtstamp()\u001b[38;5;132;01m}\u001b[39;00m\u001b[38;5;124m] Analysis completed in \u001b[39m\u001b[38;5;132;01m{\u001b[39;00melapsed\u001b[38;5;132;01m:\u001b[39;00m\u001b[38;5;124m.1f\u001b[39m\u001b[38;5;132;01m}\u001b[39;00m\u001b[38;5;124m seconds.\u001b[39m\u001b[38;5;130;01m\\n\u001b[39;00m\u001b[38;5;124m'\u001b[39m)\n",
      "Cell \u001b[0;32mIn[5], line 17\u001b[0m, in \u001b[0;36mshutdown_and_restore\u001b[0;34m(snap_no)\u001b[0m\n\u001b[1;32m     15\u001b[0m \u001b[38;5;28;01mexcept\u001b[39;00m:\n\u001b[1;32m     16\u001b[0m     \u001b[38;5;28mprint\u001b[39m(\u001b[38;5;124m'\u001b[39m\u001b[38;5;124mVM (probably) already off\u001b[39m\u001b[38;5;124m'\u001b[39m)\n\u001b[0;32m---> 17\u001b[0m \u001b[43mrestore\u001b[49m\u001b[43m(\u001b[49m\u001b[43msnap_no\u001b[49m\u001b[43m)\u001b[49m\n",
      "Cell \u001b[0;32mIn[5], line 6\u001b[0m, in \u001b[0;36mrestore\u001b[0;34m(snap_no)\u001b[0m\n\u001b[1;32m      4\u001b[0m \u001b[38;5;250m\u001b[39m\u001b[38;5;124;03m\"\"\"Restore VM to specified snapshot.\"\"\"\u001b[39;00m\n\u001b[1;32m      5\u001b[0m \u001b[38;5;28mprint\u001b[39m(\u001b[38;5;124mf\u001b[39m\u001b[38;5;124m\"\u001b[39m\u001b[38;5;124m[\u001b[39m\u001b[38;5;132;01m{\u001b[39;00mtstamp()\u001b[38;5;132;01m}\u001b[39;00m\u001b[38;5;124m] Restoring snapshot \u001b[39m\u001b[38;5;132;01m{\u001b[39;00msnap_no\u001b[38;5;132;01m}\u001b[39;00m\u001b[38;5;124m\"\u001b[39m)\n\u001b[0;32m----> 6\u001b[0m \u001b[43mcheck_output_t\u001b[49m\u001b[43m(\u001b[49m\u001b[38;5;124;43mf\u001b[39;49m\u001b[38;5;124;43m'\u001b[39;49m\u001b[38;5;124;43mvboxmanage snapshot \u001b[39;49m\u001b[38;5;132;43;01m{\u001b[39;49;00m\u001b[43mvm_name\u001b[49m\u001b[38;5;132;43;01m}\u001b[39;49;00m\u001b[38;5;124;43m restore \u001b[39;49m\u001b[38;5;124;43m\"\u001b[39;49m\u001b[38;5;124;43mSnapshot \u001b[39;49m\u001b[38;5;132;43;01m{\u001b[39;49;00m\u001b[43msnap_no\u001b[49m\u001b[38;5;132;43;01m}\u001b[39;49;00m\u001b[38;5;124;43m\"\u001b[39;49m\u001b[38;5;124;43m'\u001b[39;49m\u001b[43m)\u001b[49m\n\u001b[1;32m      7\u001b[0m \u001b[38;5;28mprint\u001b[39m(\u001b[38;5;124mf\u001b[39m\u001b[38;5;124m\"\u001b[39m\u001b[38;5;124m[\u001b[39m\u001b[38;5;132;01m{\u001b[39;00mtstamp()\u001b[38;5;132;01m}\u001b[39;00m\u001b[38;5;124m] Restoring snapshot \u001b[39m\u001b[38;5;132;01m{\u001b[39;00msnap_no\u001b[38;5;132;01m}\u001b[39;00m\u001b[38;5;124m done\u001b[39m\u001b[38;5;124m\"\u001b[39m)\n",
      "Cell \u001b[0;32mIn[4], line 10\u001b[0m, in \u001b[0;36mcheck_output_t\u001b[0;34m(command)\u001b[0m\n\u001b[1;32m      8\u001b[0m \u001b[38;5;28;01mdef\u001b[39;00m\u001b[38;5;250m \u001b[39m\u001b[38;5;21mcheck_output_t\u001b[39m(command):\n\u001b[1;32m      9\u001b[0m \u001b[38;5;250m    \u001b[39m\u001b[38;5;124;03m\"\"\"Execute command and return output.\"\"\"\u001b[39;00m\n\u001b[0;32m---> 10\u001b[0m     ret \u001b[38;5;241m=\u001b[39m \u001b[43msubprocess\u001b[49m\u001b[38;5;241;43m.\u001b[39;49m\u001b[43mcheck_output\u001b[49m\u001b[43m(\u001b[49m\u001b[43mcommand\u001b[49m\u001b[43m,\u001b[49m\u001b[43m \u001b[49m\u001b[43mshell\u001b[49m\u001b[38;5;241;43m=\u001b[39;49m\u001b[38;5;28;43;01mTrue\u001b[39;49;00m\u001b[43m)\u001b[49m\n\u001b[1;32m     11\u001b[0m     \u001b[38;5;28;01mreturn\u001b[39;00m ret\n",
      "File \u001b[0;32m~/miniconda3/lib/python3.12/subprocess.py:466\u001b[0m, in \u001b[0;36mcheck_output\u001b[0;34m(timeout, *popenargs, **kwargs)\u001b[0m\n\u001b[1;32m    463\u001b[0m         empty \u001b[38;5;241m=\u001b[39m \u001b[38;5;124mb\u001b[39m\u001b[38;5;124m'\u001b[39m\u001b[38;5;124m'\u001b[39m\n\u001b[1;32m    464\u001b[0m     kwargs[\u001b[38;5;124m'\u001b[39m\u001b[38;5;124minput\u001b[39m\u001b[38;5;124m'\u001b[39m] \u001b[38;5;241m=\u001b[39m empty\n\u001b[0;32m--> 466\u001b[0m \u001b[38;5;28;01mreturn\u001b[39;00m \u001b[43mrun\u001b[49m\u001b[43m(\u001b[49m\u001b[38;5;241;43m*\u001b[39;49m\u001b[43mpopenargs\u001b[49m\u001b[43m,\u001b[49m\u001b[43m \u001b[49m\u001b[43mstdout\u001b[49m\u001b[38;5;241;43m=\u001b[39;49m\u001b[43mPIPE\u001b[49m\u001b[43m,\u001b[49m\u001b[43m \u001b[49m\u001b[43mtimeout\u001b[49m\u001b[38;5;241;43m=\u001b[39;49m\u001b[43mtimeout\u001b[49m\u001b[43m,\u001b[49m\u001b[43m \u001b[49m\u001b[43mcheck\u001b[49m\u001b[38;5;241;43m=\u001b[39;49m\u001b[38;5;28;43;01mTrue\u001b[39;49;00m\u001b[43m,\u001b[49m\n\u001b[1;32m    467\u001b[0m \u001b[43m           \u001b[49m\u001b[38;5;241;43m*\u001b[39;49m\u001b[38;5;241;43m*\u001b[39;49m\u001b[43mkwargs\u001b[49m\u001b[43m)\u001b[49m\u001b[38;5;241m.\u001b[39mstdout\n",
      "File \u001b[0;32m~/miniconda3/lib/python3.12/subprocess.py:571\u001b[0m, in \u001b[0;36mrun\u001b[0;34m(input, capture_output, timeout, check, *popenargs, **kwargs)\u001b[0m\n\u001b[1;32m    569\u001b[0m     retcode \u001b[38;5;241m=\u001b[39m process\u001b[38;5;241m.\u001b[39mpoll()\n\u001b[1;32m    570\u001b[0m     \u001b[38;5;28;01mif\u001b[39;00m check \u001b[38;5;129;01mand\u001b[39;00m retcode:\n\u001b[0;32m--> 571\u001b[0m         \u001b[38;5;28;01mraise\u001b[39;00m CalledProcessError(retcode, process\u001b[38;5;241m.\u001b[39margs,\n\u001b[1;32m    572\u001b[0m                                  output\u001b[38;5;241m=\u001b[39mstdout, stderr\u001b[38;5;241m=\u001b[39mstderr)\n\u001b[1;32m    573\u001b[0m \u001b[38;5;28;01mreturn\u001b[39;00m CompletedProcess(process\u001b[38;5;241m.\u001b[39margs, retcode, stdout, stderr)\n",
      "\u001b[0;31mCalledProcessError\u001b[0m: Command 'vboxmanage snapshot windows11-clone restore \"Snapshot 32\"' returned non-zero exit status 1."
     ]
    }
   ],
   "source": [
    "# Path to a single ransomware sample\n",
    "sample_path = \"path/to/your/ransomware_sample.exe\"\n",
    "\n",
    "# Uncomment the line below to run analysis on a single sample\n",
    "run_ransomware_analysis(sample_path)"
   ]
  },
  {
   "cell_type": "markdown",
   "metadata": {},
   "source": [
    "## Run Analysis for Multiple Samples\n",
    "\n",
    "Use this cell to analyze multiple ransomware samples from a folder."
   ]
  },
  {
   "cell_type": "code",
   "execution_count": 9,
   "metadata": {},
   "outputs": [],
   "source": [
    "# Path to folder containing ransomware samples\n",
    "ransomware_folder = \"path/to/ransomware_samples\"\n",
    "\n",
    "# Uncomment the code below to run analysis on all samples in the folder\n",
    "'''\n",
    "samples = get_all_files(ransomware_folder)\n",
    "print(f\"Found {len(samples)} samples in {ransomware_folder}\")\n",
    "\n",
    "for i, sample in enumerate(samples, 1):\n",
    "    print(f\"Processing sample {i}/{len(samples)}: {os.path.basename(sample)}\")\n",
    "    run_ransomware_analysis(sample)\n",
    "'''"
   ]
  },
  {
   "cell_type": "markdown",
   "metadata": {},
   "source": [
    "## Utility Functions\n",
    "\n",
    "Additional utility functions for manual VM operations if needed."
   ]
  },
  {
   "cell_type": "code",
   "execution_count": 10,
   "metadata": {},
   "outputs": [],
   "source": [
    "def manual_restore():\n",
    "    \"\"\"Manually restore VM to snapshot 32.\"\"\"\n",
    "    restore(snapshot_no)\n",
    "\n",
    "def manual_start():\n",
    "    \"\"\"Manually start the VM.\"\"\"\n",
    "    start_vm()\n",
    "    \n",
    "def manual_shutdown():\n",
    "    \"\"\"Manually shutdown the VM.\"\"\"\n",
    "    print(f\"[{tstamp()}] Powering off VM\")\n",
    "    try:\n",
    "        check_output_t(f'vboxmanage controlvm {vm_name} poweroff')\n",
    "        print(f\"[{tstamp()}] Powering off VM done\")\n",
    "    except:\n",
    "        print('VM (probably) already off')\n",
    "        \n",
    "def check_vm_status():\n",
    "    \"\"\"Check if VM is running.\"\"\"\n",
    "    try:\n",
    "        output = subprocess.check_output(f'vboxmanage showvminfo {vm_name} | grep State', shell=True).decode()\n",
    "        print(output.strip())\n",
    "    except:\n",
    "        print(\"Error checking VM status\")"
   ]
  },
  {
   "cell_type": "markdown",
   "metadata": {},
   "source": [
    "## Manual Operations\n",
    "\n",
    "Use these cells to perform individual operations if needed."
   ]
  },
  {
   "cell_type": "code",
   "execution_count": 11,
   "metadata": {},
   "outputs": [],
   "source": [
    "# Check VM status\n",
    "# check_vm_status()"
   ]
  },
  {
   "cell_type": "code",
   "execution_count": 12,
   "metadata": {},
   "outputs": [],
   "source": [
    "# Manually restore VM to snapshot 32\n",
    "# manual_restore()"
   ]
  },
  {
   "cell_type": "code",
   "execution_count": 13,
   "metadata": {},
   "outputs": [],
   "source": [
    "# Manually start VM\n",
    "# manual_start()"
   ]
  },
  {
   "cell_type": "code",
   "execution_count": 14,
   "metadata": {},
   "outputs": [],
   "source": [
    "# Manually execute monitoring script\n",
    "# execute_monitoring_script()"
   ]
  },
  {
   "cell_type": "code",
   "execution_count": 15,
   "metadata": {},
   "outputs": [],
   "source": [
    "# Manually copy DLL files from shared folder\n",
    "# copy_dll_to_folder()"
   ]
  },
  {
   "cell_type": "code",
   "execution_count": 16,
   "metadata": {},
   "outputs": [],
   "source": [
    "# Manually shutdown VM\n",
    "# manual_shutdown()"
   ]
  }
 ],
 "metadata": {
  "kernelspec": {
   "display_name": "Python (myenv)",
   "language": "python",
   "name": "myenv"
  },
  "language_info": {
   "codemirror_mode": {
    "name": "ipython",
    "version": 3
   },
   "file_extension": ".py",
   "mimetype": "text/x-python",
   "name": "python",
   "nbconvert_exporter": "python",
   "pygments_lexer": "ipython3",
   "version": "3.12.8"
  }
 },
 "nbformat": 4,
 "nbformat_minor": 4
}
