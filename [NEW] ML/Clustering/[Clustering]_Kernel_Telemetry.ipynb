{
  "nbformat": 4,
  "nbformat_minor": 0,
  "metadata": {
    "colab": {
      "provenance": []
    },
    "kernelspec": {
      "name": "python3",
      "display_name": "Python 3"
    },
    "language_info": {
      "name": "python"
    }
  },
  "cells": [
    {
      "cell_type": "code",
      "execution_count": null,
      "metadata": {
        "id": "OE-LteQGhGeT"
      },
      "outputs": [],
      "source": [
        "import pandas as pd"
      ]
    },
    {
      "cell_type": "code",
      "source": [
        "df = pd.read_csv('datasetcombine.csv')"
      ],
      "metadata": {
        "id": "gTXgJmlDkcXL"
      },
      "execution_count": null,
      "outputs": []
    },
    {
      "cell_type": "code",
      "source": [
        "selected_features = [\n",
        "    'ProcessImageEntropy',\n",
        "    'SensitiveKeysAccessed',\n",
        "    'RegistryValueEntropyAvg', 'IS_MALWARE'\n",
        "]\n",
        "X = df[selected_features]"
      ],
      "metadata": {
        "id": "J2J1Qhv1kdXr"
      },
      "execution_count": null,
      "outputs": []
    },
    {
      "cell_type": "code",
      "source": [
        "X[selected_features].nunique().sort_values()\n"
      ],
      "metadata": {
        "colab": {
          "base_uri": "https://localhost:8080/",
          "height": 209
        },
        "id": "ckpDNPP3pga3",
        "outputId": "ce8a81ab-5fe9-4293-da1c-75f50f1cfdf0"
      },
      "execution_count": null,
      "outputs": [
        {
          "output_type": "execute_result",
          "data": {
            "text/plain": [
              "IS_MALWARE                   2\n",
              "ProcessImageEntropy         59\n",
              "SensitiveKeysAccessed       97\n",
              "RegistryValueEntropyAvg    166\n",
              "dtype: int64"
            ],
            "text/html": [
              "<div>\n",
              "<style scoped>\n",
              "    .dataframe tbody tr th:only-of-type {\n",
              "        vertical-align: middle;\n",
              "    }\n",
              "\n",
              "    .dataframe tbody tr th {\n",
              "        vertical-align: top;\n",
              "    }\n",
              "\n",
              "    .dataframe thead th {\n",
              "        text-align: right;\n",
              "    }\n",
              "</style>\n",
              "<table border=\"1\" class=\"dataframe\">\n",
              "  <thead>\n",
              "    <tr style=\"text-align: right;\">\n",
              "      <th></th>\n",
              "      <th>0</th>\n",
              "    </tr>\n",
              "  </thead>\n",
              "  <tbody>\n",
              "    <tr>\n",
              "      <th>IS_MALWARE</th>\n",
              "      <td>2</td>\n",
              "    </tr>\n",
              "    <tr>\n",
              "      <th>ProcessImageEntropy</th>\n",
              "      <td>59</td>\n",
              "    </tr>\n",
              "    <tr>\n",
              "      <th>SensitiveKeysAccessed</th>\n",
              "      <td>97</td>\n",
              "    </tr>\n",
              "    <tr>\n",
              "      <th>RegistryValueEntropyAvg</th>\n",
              "      <td>166</td>\n",
              "    </tr>\n",
              "  </tbody>\n",
              "</table>\n",
              "</div><br><label><b>dtype:</b> int64</label>"
            ]
          },
          "metadata": {},
          "execution_count": 108
        }
      ]
    },
    {
      "cell_type": "code",
      "source": [
        "from sklearn.decomposition import PCA\n",
        "import matplotlib.pyplot as plt\n",
        "from sklearn.preprocessing import StandardScaler\n",
        "import numpy as np\n",
        "\n",
        "scaler = StandardScaler()\n",
        "X_cluster = X.drop(columns='IS_MALWARE')\n",
        "X_scaled = scaler.fit_transform(X_cluster)\n",
        "pca = PCA().fit(X_scaled)\n",
        "\n",
        "cumulative_variance = np.cumsum(pca.explained_variance_ratio_)\n",
        "\n",
        "plt.figure(figsize=(8,5))\n",
        "plt.plot(range(1, len(cumulative_variance)+1), cumulative_variance, marker='o', linestyle='-')\n",
        "plt.axhline(y=0.9, color='r', linestyle='--', label='90% Explained Variance')  # garis bantu\n",
        "plt.xticks(range(1, len(cumulative_variance)+1))\n",
        "plt.xlabel('Number of Principal Components')\n",
        "plt.ylabel('Cumulative Explained Variance')\n",
        "plt.title('PCA - Explained Variance by Number of Components')\n",
        "plt.grid(True)\n",
        "plt.legend()\n",
        "plt.tight_layout()\n",
        "plt.show()\n"
      ],
      "metadata": {
        "colab": {
          "base_uri": "https://localhost:8080/",
          "height": 507
        },
        "id": "dfvFEp6rqS4z",
        "outputId": "4ef5a403-decb-4748-c1d7-c60a67fe17a9"
      },
      "execution_count": null,
      "outputs": [
        {
          "output_type": "display_data",
          "data": {
            "text/plain": [
              "<Figure size 800x500 with 1 Axes>"
            ],
            "image/png": "[encoded data removed]"
          },
          "metadata": {}
        }
      ]
    },
    {
      "cell_type": "code",
      "source": [
        "pca = PCA(n_components=2)\n",
        "X_scaled = pca.fit_transform(X_scaled)"
      ],
      "metadata": {
        "id": "ZXG8MoyssmxD"
      },
      "execution_count": null,
      "outputs": []
    },
    {
      "cell_type": "code",
      "source": [
        "# features_to_check = [col for col in selected_features if col != 'IS_MALWARE']\n",
        "\n",
        "# outlier_mask = pd.Series(False, index=X.index)\n",
        "\n",
        "# print(\"=== Deteksi Outlier per Kolom (IQR Method) ===\")\n",
        "# for col in features_to_check:\n",
        "#     Q1 = X[col].quantile(0.25)\n",
        "#     Q3 = X[col].quantile(0.75)\n",
        "#     IQR = Q3 - Q1\n",
        "#     lower_bound = Q1 - 1.5 * IQR\n",
        "#     upper_bound = Q3 + 1.5 * IQR\n",
        "\n",
        "#     col_outliers = (X[col] < lower_bound) | (X[col] > upper_bound)\n",
        "#     outlier_count = col_outliers.sum()\n",
        "#     outlier_mask |= col_outliers\n",
        "\n",
        "#     print(f\"Kolom '{col}': {outlier_count} outlier\")\n",
        "\n",
        "# total_outlier_rows = outlier_mask.sum()\n",
        "\n",
        "# malware_lost = X.loc[outlier_mask, 'IS_MALWARE'].sum()\n",
        "\n",
        "# print(\"\\n=== Summary ===\")\n",
        "# print(f\"Total baris outlier unik (terdampak minimal satu kolom): {total_outlier_rows}\")\n",
        "# print(f\"Jumlah data dengan IS_MALWARE = 1 yang akan hilang jika outlier dihapus: {int(malware_lost)}\")"
      ],
      "metadata": {
        "id": "tKSF9ULEkoSU"
      },
      "execution_count": null,
      "outputs": []
    },
    {
      "cell_type": "code",
      "source": [
        "from sklearn.ensemble import IsolationForest\n",
        "\n",
        "from sklearn.cluster import KMeans\n",
        "import matplotlib.pyplot as plt\n",
        "import seaborn as sns\n",
        "\n",
        "\n",
        "\n",
        "\n",
        "model = IsolationForest(contamination=0.05, random_state=42)\n",
        "y_pred = model.fit_predict(X_scaled)\n",
        "\n",
        "\n",
        "df['Anomaly'] = y_pred\n",
        "\n",
        "print(df['Anomaly'].value_counts())\n",
        "\n",
        "if 'IS_MALWARE' in df.columns:\n",
        "    from sklearn.metrics import classification_report\n",
        "    print(classification_report(df['IS_MALWARE'], df['Anomaly'].replace({1: 0, -1: 1})))"
      ],
      "metadata": {
        "colab": {
          "base_uri": "https://localhost:8080/"
        },
        "id": "ylDGdkvenRpE",
        "outputId": "8c7cfb76-f709-40ff-b21c-85ea55f056da"
      },
      "execution_count": null,
      "outputs": [
        {
          "output_type": "stream",
          "name": "stdout",
          "text": [
            "Anomaly\n",
            " 1    1588\n",
            "-1      84\n",
            "Name: count, dtype: int64\n",
            "              precision    recall  f1-score   support\n",
            "\n",
            "           0       0.96      0.96      0.96      1595\n",
            "           1       0.23      0.25      0.24        77\n",
            "\n",
            "    accuracy                           0.93      1672\n",
            "   macro avg       0.59      0.60      0.60      1672\n",
            "weighted avg       0.93      0.93      0.93      1672\n",
            "\n"
          ]
        }
      ]
    },
    {
      "cell_type": "code",
      "source": [
        "from sklearn.svm import OneClassSVM\n",
        "\n",
        "ocsvm = OneClassSVM(kernel='rbf', gamma='scale', nu=0.05)\n",
        "ocsvm.fit(X_scaled)\n",
        "\n",
        "y_pred_ocsvm = ocsvm.predict(X_scaled)\n",
        "\n",
        "df['Anomaly_OCSVM'] = y_pred_ocsvm\n",
        "print(df['Anomaly_OCSVM'].value_counts())\n",
        "if 'IS_MALWARE' in df.columns:\n",
        "    print(classification_report(df['IS_MALWARE'], df['Anomaly_OCSVM'].replace({1: 0, -1: 1})))"
      ],
      "metadata": {
        "colab": {
          "base_uri": "https://localhost:8080/"
        },
        "id": "dWorVlYOodRJ",
        "outputId": "ad84e00a-b39d-4003-be26-cdaac3c90209"
      },
      "execution_count": null,
      "outputs": [
        {
          "output_type": "stream",
          "name": "stdout",
          "text": [
            "Anomaly_OCSVM\n",
            " 1    1583\n",
            "-1      89\n",
            "Name: count, dtype: int64\n",
            "              precision    recall  f1-score   support\n",
            "\n",
            "           0       0.97      0.96      0.97      1595\n",
            "           1       0.33      0.38      0.35        77\n",
            "\n",
            "    accuracy                           0.94      1672\n",
            "   macro avg       0.65      0.67      0.66      1672\n",
            "weighted avg       0.94      0.94      0.94      1672\n",
            "\n"
          ]
        }
      ]
    },
    {
      "cell_type": "code",
      "source": [
        "from sklearn.neighbors import LocalOutlierFactor\n",
        "\n",
        "lof = LocalOutlierFactor(n_neighbors=20, contamination=0.05)\n",
        "y_pred_lof = lof.fit_predict(X_scaled)\n",
        "\n",
        "df['Anomaly_LOF'] = y_pred_lof\n",
        "print(df['Anomaly_LOF'].value_counts())\n",
        "if 'IS_MALWARE' in df.columns:\n",
        "    print(classification_report(df['IS_MALWARE'], df['Anomaly_LOF'].replace({1: 0, -1: 1})))\n"
      ],
      "metadata": {
        "colab": {
          "base_uri": "https://localhost:8080/"
        },
        "id": "-kpk8HYkojZn",
        "outputId": "9ebe9fe3-3ba1-4b56-b50a-37c535d5c743"
      },
      "execution_count": null,
      "outputs": [
        {
          "output_type": "stream",
          "name": "stdout",
          "text": [
            "Anomaly_LOF\n",
            " 1    1590\n",
            "-1      82\n",
            "Name: count, dtype: int64\n",
            "              precision    recall  f1-score   support\n",
            "\n",
            "           0       0.96      0.96      0.96      1595\n",
            "           1       0.18      0.19      0.19        77\n",
            "\n",
            "    accuracy                           0.92      1672\n",
            "   macro avg       0.57      0.58      0.57      1672\n",
            "weighted avg       0.93      0.92      0.92      1672\n",
            "\n"
          ]
        },
        {
          "output_type": "stream",
          "name": "stderr",
          "text": [
            "/usr/local/lib/python3.11/dist-packages/sklearn/neighbors/_lof.py:322: UserWarning: Duplicate values are leading to incorrect results. Increase the number of neighbors for more accurate results.\n",
            "  warnings.warn(\n"
          ]
        }
      ]
    }
  ]
}